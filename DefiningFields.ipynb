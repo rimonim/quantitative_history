{
 "cells": [
  {
   "cell_type": "markdown",
   "id": "92bd0fc7-2a97-41ee-a98d-bb470ef13134",
   "metadata": {},
   "source": [
    "# What is a Scholarly Field?\n",
    "\n",
    "In the business of knowledge, a \"field\" may refer to a number of closely related concepts:\n",
    "- A topic of research that includes multiple subtopics\n",
    "- A broad skillset or methodology used in research that includes many sub-skills or sub-methodologies\n",
    "- A community of mutually-interested scholars who exchange ideas\n",
    "\n",
    "Operationally defining a field according to any one of these definitions requires a metric of _similarity_: To what extent are two subtopics included under the same broad topic? To what extent can two skills be grouped as belonging to the same skillset? How can we tell how mutually interested scholars are or how much they exchange ideas?\n",
    "\n",
    "The purpose of this initial foray into quantified scholarship is to explore different metrics of similarity, and how they might yield different pictures of a \"field\".\n",
    "\n",
    "The first order of business: Finding a dataset.\n",
    "\n",
    "### The Dataset\n"
   ]
  }
 ],
 "metadata": {
  "kernelspec": {
   "display_name": "Python 3 (ipykernel)",
   "language": "python",
   "name": "python3"
  },
  "language_info": {
   "codemirror_mode": {
    "name": "ipython",
    "version": 3
   },
   "file_extension": ".py",
   "mimetype": "text/x-python",
   "name": "python",
   "nbconvert_exporter": "python",
   "pygments_lexer": "ipython3",
   "version": "3.9.13"
  }
 },
 "nbformat": 4,
 "nbformat_minor": 5
}
